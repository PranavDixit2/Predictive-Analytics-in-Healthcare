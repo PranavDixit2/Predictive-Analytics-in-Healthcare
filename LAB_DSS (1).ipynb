{
  "nbformat": 4,
  "nbformat_minor": 0,
  "metadata": {
    "colab": {
      "provenance": []
    },
    "kernelspec": {
      "name": "python3",
      "display_name": "Python 3"
    },
    "language_info": {
      "name": "python"
    }
  },
  "cells": [
    {
      "cell_type": "code",
      "execution_count": null,
      "metadata": {
        "id": "febuNTNoTkj3"
      },
      "outputs": [],
      "source": [
        "import pandas as pd\n",
        "import numpy as np\n",
        "import matplotlib.pyplot as plt\n",
        "import seaborn as sns"
      ]
    },
    {
      "cell_type": "code",
      "source": [
        "import os\n",
        "from google.colab import drive\n",
        "drive.mount('/content/drive')\n",
        "filepath ='drive/MyDrive/hofstra/HitData/Hit215/ADV DA Project/Adv data project/Datasets/'\n",
        "list_of_files = os.listdir(filepath)\n",
        "print(list_of_files)"
      ],
      "metadata": {
        "colab": {
          "base_uri": "https://localhost:8080/"
        },
        "id": "qRmEetgNTsJN",
        "outputId": "57d78476-c04c-47e3-a94d-b1c7dc7c1c3f"
      },
      "execution_count": null,
      "outputs": [
        {
          "output_type": "stream",
          "name": "stdout",
          "text": [
            "Drive already mounted at /content/drive; to attempt to forcibly remount, call drive.mount(\"/content/drive\", force_remount=True).\n",
            "['ADMISSIONS.csv', 'PRESCRIPTION.csv', 'heart_failure_clinical_records_dataset.csv', 'Heart_health.csv', 'cancer_classification.csv', 'diabetes_risk_prediction_dataset.csv', 'fetal_health.csv', 'pres.csv', 'Patient Admissions dummi data.csv', 'LAB.csv', 'LABEV.csv', 'DEEPSEPS FINAL DF.csv', 'los sepsis.csv', 'earlydiagseps.csv', 'diagseps.csv', 'labdss.csv']\n"
          ]
        }
      ]
    },
    {
      "cell_type": "code",
      "source": [
        "df = pd.read_csv(filepath+ list_of_files[15] )\n",
        "\n",
        "label_counts = df[\"diagnosis\"].value_counts()\n",
        "print(label_counts)"
      ],
      "metadata": {
        "colab": {
          "base_uri": "https://localhost:8080/"
        },
        "id": "0egthOyYT3O7",
        "outputId": "cec88aae-2652-43af-db6e-300168c2ccd3"
      },
      "execution_count": null,
      "outputs": [
        {
          "output_type": "stream",
          "name": "stdout",
          "text": [
            "diagnosis\n",
            "SEPSIS                                           25244\n",
            "PNEUMONIA                                        19213\n",
            "FEVER                                            10613\n",
            "FACIAL NUMBNESS                                   7262\n",
            "AROMEGLEY;BURKITTS LYMPHOMA                       7262\n",
            "                                                 ...  \n",
            "ACUTE SUBDURAL HEMATOMA                            105\n",
            "RECURRENT LEFT CAROTID STENOSIS,PRE HYDRATION      102\n",
            "SUBDURAL HEMATOMA/S/P FALL                          90\n",
            "S/P MOTORCYCLE ACCIDENT                             70\n",
            "PNEUMONIA;TELEMETRY                                 54\n",
            "Name: count, Length: 95, dtype: int64\n"
          ]
        }
      ]
    },
    {
      "cell_type": "code",
      "source": [
        "pivoted_data = df.pivot_table(index='subject_id', columns= 'label', values= 'valuenum', aggfunc='first')\n",
        "\n",
        "\n",
        "pivoted_data.columns = [f\"{col[1]}_{col[0]}\" for col in pivoted_data.columns]\n",
        "\n",
        "\n",
        "pivoted_data.reset_index(inplace=True)\n",
        "\n",
        "\n",
        "pivoted_data = pivoted_data.merge(df[['subject_id','diagnosis']], on='subject_id')\n",
        "\n",
        "\n",
        "pivoted_data.fillna(0, inplace=True)\n",
        "\n",
        "\n",
        "print(pivoted_data.sample(1))"
      ],
      "metadata": {
        "colab": {
          "base_uri": "https://localhost:8080/"
        },
        "id": "azLTd9W9T9iT",
        "outputId": "acdbe8e1-ecb8-44fb-ab6e-9aa66ee6b182"
      },
      "execution_count": null,
      "outputs": [
        {
          "output_type": "stream",
          "name": "stdout",
          "text": [
            "        subject_id   _%  5_2  b_A  b_A  b_A  b_A  b_A  b_A  c_A  ...  B_W  \\\n",
            "144398       42281  0.0  0.0  0.0  0.0  0.0  0.0  0.0  0.0  0.0  ...  0.0   \n",
            "\n",
            "         h_W  r_W  e_Y  o_Y   C_p  H_p    O_p  a_t       diagnosis  \n",
            "144398  17.0  0.0  0.0  0.0  61.0  7.0  225.0  0.0  UPPER GI BLEED  \n",
            "\n",
            "[1 rows x 375 columns]\n"
          ]
        }
      ]
    },
    {
      "cell_type": "code",
      "source": [
        "pivoted_data.shape"
      ],
      "metadata": {
        "colab": {
          "base_uri": "https://localhost:8080/"
        },
        "id": "1DxnNBIfULJv",
        "outputId": "f6582e02-757e-4b91-fd6c-cfde756a956c"
      },
      "execution_count": null,
      "outputs": [
        {
          "output_type": "execute_result",
          "data": {
            "text/plain": [
              "(162187, 375)"
            ]
          },
          "metadata": {},
          "execution_count": 5
        }
      ]
    },
    {
      "cell_type": "code",
      "source": [
        "pivoted_data['diagnosis'] = pivoted_data['diagnosis'].astype(str)"
      ],
      "metadata": {
        "id": "XHgekb3oadPO"
      },
      "execution_count": null,
      "outputs": []
    },
    {
      "cell_type": "code",
      "source": [
        "pivoted_data.isnull().sum().sort_values(ascending=False)"
      ],
      "metadata": {
        "colab": {
          "base_uri": "https://localhost:8080/"
        },
        "id": "JwMNJM-78gNu",
        "outputId": "1a8c1090-54f2-4881-e963-55145256d09c"
      },
      "execution_count": null,
      "outputs": [
        {
          "output_type": "execute_result",
          "data": {
            "text/plain": [
              "subject_id    0\n",
              "x_O           0\n",
              "h_P           0\n",
              "h_P           0\n",
              "e_P           0\n",
              "             ..\n",
              "r_C           0\n",
              "r_C           0\n",
              "r_C           0\n",
              "r_C           0\n",
              "diagnosis     0\n",
              "Length: 375, dtype: int64"
            ]
          },
          "metadata": {},
          "execution_count": 8
        }
      ]
    },
    {
      "cell_type": "code",
      "source": [
        "from sklearn.preprocessing import StandardScaler\n",
        "from sklearn.feature_selection import SelectKBest, f_classif\n",
        "from sklearn.model_selection import train_test_split\n",
        "import pandas as pd\n",
        "from sklearn.preprocessing import LabelEncoder\n",
        "\n",
        "le = LabelEncoder()\n",
        "pivoted_data['diagnosis'] = le.fit_transform(pivoted_data['diagnosis'])\n",
        "\n",
        "\n",
        "y = pivoted_data['diagnosis']\n",
        "X = pivoted_data.iloc[:,:-1]\n",
        "\n",
        "scaler = StandardScaler()\n",
        "X_scaled = scaler.fit_transform(X)\n",
        "\n",
        "from sklearn.model_selection import train_test_split\n",
        "X_train, X_test, y_train, y_test = train_test_split(X_scaled, y, test_size=0.30, random_state=20)"
      ],
      "metadata": {
        "id": "S7KD_lOwYcpf"
      },
      "execution_count": null,
      "outputs": []
    },
    {
      "cell_type": "code",
      "source": [
        "from sklearn.neighbors import KNeighborsClassifier\n",
        "\n",
        "model = KNeighborsClassifier(n_neighbors=3)\n",
        "model.fit(X_train, y_train)\n",
        "y_pred = model.predict(X_test)\n",
        "y_pred\n",
        "\n",
        "from sklearn.metrics import f1_score, accuracy_score\n",
        "\n",
        "acc = accuracy_score(y_test, y_pred)\n",
        "\n",
        "\n",
        "print(f'KNN Accuracy: {acc}')"
      ],
      "metadata": {
        "colab": {
          "base_uri": "https://localhost:8080/"
        },
        "id": "njqQ9C-GY2U_",
        "outputId": "f28e466a-ace2-424b-b243-4496f01fd252"
      },
      "execution_count": null,
      "outputs": [
        {
          "output_type": "stream",
          "name": "stdout",
          "text": [
            "KNN Accuracy: 0.4895081899829418\n"
          ]
        }
      ]
    },
    {
      "cell_type": "code",
      "source": [
        "from sklearn.naive_bayes import GaussianNB\n",
        "from sklearn.svm import SVC\n",
        "from sklearn.tree import DecisionTreeClassifier\n",
        "from sklearn.neighbors import KNeighborsClassifier\n",
        "from sklearn.ensemble import RandomForestClassifier\n",
        "\n",
        "model = GaussianNB()\n",
        "model.fit(X_train, y_train)\n",
        "y_pred = model.predict(X_test)\n",
        "acc = accuracy_score(y_test, y_pred)\n",
        "f1 = f1_score(y_test, y_pred, average='weighted')\n",
        "\n",
        "print(f'Bayes F1: {f1}')\n",
        "print(f'Bayes Accuracy: {acc}')"
      ],
      "metadata": {
        "colab": {
          "base_uri": "https://localhost:8080/"
        },
        "id": "VgmCuKB9G0C4",
        "outputId": "193f5e3e-cf74-489c-b85d-b126e1cdf5da"
      },
      "execution_count": null,
      "outputs": [
        {
          "output_type": "stream",
          "name": "stdout",
          "text": [
            "Bayes F1: 0.46848489414625866\n",
            "Bayes Accuracy: 0.48981647039480447\n"
          ]
        }
      ]
    },
    {
      "cell_type": "code",
      "source": [
        "model = DecisionTreeClassifier()\n",
        "model.fit(X_train, y_train)\n",
        "y_pred = model.predict(X_test)\n",
        "acc = accuracy_score(y_test, y_pred)\n",
        "f1 = f1_score(y_test, y_pred, average='weighted')\n",
        "\n",
        "print(f'DT F1: {f1}')\n",
        "print(f'DT Accuracy: {acc}')\n",
        "\n",
        "from sklearn.tree import plot_tree\n",
        "plt.figure(figsize=(12,10))\n",
        "plot_tree(model)\n",
        "plt.show()"
      ],
      "metadata": {
        "colab": {
          "base_uri": "https://localhost:8080/"
        },
        "id": "7uBmjfaTHalB",
        "outputId": "b3253cd4-ca46-44cd-f713-7ea44a3b7125"
      },
      "execution_count": null,
      "outputs": [
        {
          "output_type": "stream",
          "name": "stdout",
          "text": [
            "DT F1: 0.517241199554373\n",
            "DT Accuracy: 0.5995437449904433\n"
          ]
        }
      ]
    }
  ]
}